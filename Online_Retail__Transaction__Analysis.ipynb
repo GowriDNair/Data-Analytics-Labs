{
  "cells": [
    {
      "cell_type": "markdown",
      "source": [
        "## 💻 **Online Retail Transaction Analysis:** 🛒"
      ],
      "metadata": {
        "id": "Hv-52HFLvKaV"
      },
      "id": "Hv-52HFLvKaV"
    },
    {
      "cell_type": "markdown",
      "source": [
        "## **Metadata:**"
      ],
      "metadata": {
        "id": "38lzU6MwvTu7"
      },
      "id": "38lzU6MwvTu7"
    },
    {
      "cell_type": "markdown",
      "source": [
        "Online Retail.xlsx is a dataset containing information about online transactions between 01/12/2010 and 09/12/2012 for a UK-based online retail.\n",
        "\n",
        "The dataset lists the following information: \n",
        "* Invoice number (to indentify transactions), \n",
        "* Stock Code(Product code)\n",
        "* Description (Product Name)\n",
        "* Quantity(ordered of each product per transaction)\n",
        "* Invoice date (date and time of the transaction)\n",
        "* Unit Price(Product price per unit in sterling)\n",
        "* Customer ID\n",
        "* Country (the customer resides in)\n",
        "\n",
        "\n",
        "This dataset contains numeric and nominal (specifically sequential, multivariate, and time-series data) for 541090 transactions."
      ],
      "metadata": {
        "id": "skvLQHOBvWqM"
      },
      "id": "skvLQHOBvWqM"
    },
    {
      "cell_type": "markdown",
      "source": [
        "Importing standard libraries:"
      ],
      "metadata": {
        "id": "Hs9WOMixvqEe"
      },
      "id": "Hs9WOMixvqEe"
    },
    {
      "cell_type": "code",
      "source": [
        "import pandas as pd\n",
        "import numpy as np\n",
        "import seaborn as sns\n",
        "from datetime import timedelta\n",
        "from matplotlib import pyplot as plt"
      ],
      "outputs": [],
      "execution_count": null,
      "metadata": {
        "id": "5614d1e7"
      },
      "id": "5614d1e7"
    },
    {
      "cell_type": "code",
      "source": [
        "df = pd.read_excel(\"Online Retail.xlsx\")\n",
        "df.head()"
      ],
      "outputs": [
        {
          "output_type": "execute_result",
          "execution_count": 386,
          "data": {
            "text/html": "<div>\n<style scoped>\n    .dataframe tbody tr th:only-of-type {\n        vertical-align: middle;\n    }\n\n    .dataframe tbody tr th {\n        vertical-align: top;\n    }\n\n    .dataframe thead th {\n        text-align: right;\n    }\n</style>\n<table border=\"1\" class=\"dataframe\">\n  <thead>\n    <tr style=\"text-align: right;\">\n      <th></th>\n      <th>InvoiceNo</th>\n      <th>StockCode</th>\n      <th>Description</th>\n      <th>Quantity</th>\n      <th>InvoiceDate</th>\n      <th>UnitPrice</th>\n      <th>CustomerID</th>\n      <th>Country</th>\n    </tr>\n  </thead>\n  <tbody>\n    <tr>\n      <th>0</th>\n      <td>548550</td>\n      <td>22662</td>\n      <td>LUNCH BAG DOLLY GIRL DESIGN</td>\n      <td>10</td>\n      <td>2011-04-01 08:22:00</td>\n      <td>1.65</td>\n      <td>18161.0</td>\n      <td>United Kingdom</td>\n    </tr>\n    <tr>\n      <th>1</th>\n      <td>548550</td>\n      <td>22296</td>\n      <td>HEART IVORY TRELLIS LARGE</td>\n      <td>12</td>\n      <td>2011-04-01 08:22:00</td>\n      <td>1.65</td>\n      <td>18161.0</td>\n      <td>United Kingdom</td>\n    </tr>\n    <tr>\n      <th>2</th>\n      <td>548550</td>\n      <td>21790</td>\n      <td>VINTAGE SNAP CARDS</td>\n      <td>12</td>\n      <td>2011-04-01 08:22:00</td>\n      <td>0.85</td>\n      <td>18161.0</td>\n      <td>United Kingdom</td>\n    </tr>\n    <tr>\n      <th>3</th>\n      <td>548550</td>\n      <td>22622</td>\n      <td>BOX OF VINTAGE ALPHABET BLOCKS</td>\n      <td>2</td>\n      <td>2011-04-01 08:22:00</td>\n      <td>9.95</td>\n      <td>18161.0</td>\n      <td>United Kingdom</td>\n    </tr>\n    <tr>\n      <th>4</th>\n      <td>548550</td>\n      <td>22393</td>\n      <td>PAPERWEIGHT VINTAGE COLLAGE</td>\n      <td>6</td>\n      <td>2011-04-01 08:22:00</td>\n      <td>2.55</td>\n      <td>18161.0</td>\n      <td>United Kingdom</td>\n    </tr>\n  </tbody>\n</table>\n</div>",
            "text/plain": "  InvoiceNo StockCode                     Description  Quantity  \\\n0    548550     22662     LUNCH BAG DOLLY GIRL DESIGN        10   \n1    548550     22296       HEART IVORY TRELLIS LARGE        12   \n2    548550     21790              VINTAGE SNAP CARDS        12   \n3    548550     22622  BOX OF VINTAGE ALPHABET BLOCKS         2   \n4    548550     22393     PAPERWEIGHT VINTAGE COLLAGE         6   \n\n          InvoiceDate  UnitPrice  CustomerID         Country  \n0 2011-04-01 08:22:00       1.65     18161.0  United Kingdom  \n1 2011-04-01 08:22:00       1.65     18161.0  United Kingdom  \n2 2011-04-01 08:22:00       0.85     18161.0  United Kingdom  \n3 2011-04-01 08:22:00       9.95     18161.0  United Kingdom  \n4 2011-04-01 08:22:00       2.55     18161.0  United Kingdom  "
          },
          "metadata": {}
        }
      ],
      "execution_count": null,
      "metadata": {
        "id": "d491c500",
        "outputId": "0422c9be-bae3-412b-f21e-e16b82120e73"
      },
      "id": "d491c500"
    },
    {
      "cell_type": "code",
      "source": [
        "# Converting InvoiceDate column to datetime objects\n",
        "df[\"InvoiceDate\"] = pd.to_datetime(df[\"InvoiceDate\"], format=\"%Y-%m-%d\")\n",
        "df.head()"
      ],
      "outputs": [
        {
          "output_type": "execute_result",
          "execution_count": 387,
          "data": {
            "text/html": "<div>\n<style scoped>\n    .dataframe tbody tr th:only-of-type {\n        vertical-align: middle;\n    }\n\n    .dataframe tbody tr th {\n        vertical-align: top;\n    }\n\n    .dataframe thead th {\n        text-align: right;\n    }\n</style>\n<table border=\"1\" class=\"dataframe\">\n  <thead>\n    <tr style=\"text-align: right;\">\n      <th></th>\n      <th>InvoiceNo</th>\n      <th>StockCode</th>\n      <th>Description</th>\n      <th>Quantity</th>\n      <th>InvoiceDate</th>\n      <th>UnitPrice</th>\n      <th>CustomerID</th>\n      <th>Country</th>\n    </tr>\n  </thead>\n  <tbody>\n    <tr>\n      <th>0</th>\n      <td>548550</td>\n      <td>22662</td>\n      <td>LUNCH BAG DOLLY GIRL DESIGN</td>\n      <td>10</td>\n      <td>2011-04-01 08:22:00</td>\n      <td>1.65</td>\n      <td>18161.0</td>\n      <td>United Kingdom</td>\n    </tr>\n    <tr>\n      <th>1</th>\n      <td>548550</td>\n      <td>22296</td>\n      <td>HEART IVORY TRELLIS LARGE</td>\n      <td>12</td>\n      <td>2011-04-01 08:22:00</td>\n      <td>1.65</td>\n      <td>18161.0</td>\n      <td>United Kingdom</td>\n    </tr>\n    <tr>\n      <th>2</th>\n      <td>548550</td>\n      <td>21790</td>\n      <td>VINTAGE SNAP CARDS</td>\n      <td>12</td>\n      <td>2011-04-01 08:22:00</td>\n      <td>0.85</td>\n      <td>18161.0</td>\n      <td>United Kingdom</td>\n    </tr>\n    <tr>\n      <th>3</th>\n      <td>548550</td>\n      <td>22622</td>\n      <td>BOX OF VINTAGE ALPHABET BLOCKS</td>\n      <td>2</td>\n      <td>2011-04-01 08:22:00</td>\n      <td>9.95</td>\n      <td>18161.0</td>\n      <td>United Kingdom</td>\n    </tr>\n    <tr>\n      <th>4</th>\n      <td>548550</td>\n      <td>22393</td>\n      <td>PAPERWEIGHT VINTAGE COLLAGE</td>\n      <td>6</td>\n      <td>2011-04-01 08:22:00</td>\n      <td>2.55</td>\n      <td>18161.0</td>\n      <td>United Kingdom</td>\n    </tr>\n  </tbody>\n</table>\n</div>",
            "text/plain": "  InvoiceNo StockCode                     Description  Quantity  \\\n0    548550     22662     LUNCH BAG DOLLY GIRL DESIGN        10   \n1    548550     22296       HEART IVORY TRELLIS LARGE        12   \n2    548550     21790              VINTAGE SNAP CARDS        12   \n3    548550     22622  BOX OF VINTAGE ALPHABET BLOCKS         2   \n4    548550     22393     PAPERWEIGHT VINTAGE COLLAGE         6   \n\n          InvoiceDate  UnitPrice  CustomerID         Country  \n0 2011-04-01 08:22:00       1.65     18161.0  United Kingdom  \n1 2011-04-01 08:22:00       1.65     18161.0  United Kingdom  \n2 2011-04-01 08:22:00       0.85     18161.0  United Kingdom  \n3 2011-04-01 08:22:00       9.95     18161.0  United Kingdom  \n4 2011-04-01 08:22:00       2.55     18161.0  United Kingdom  "
          },
          "metadata": {}
        }
      ],
      "execution_count": null,
      "metadata": {
        "id": "1d9a3df8",
        "outputId": "6874463b-0b96-4b65-c54d-733bc3268570"
      },
      "id": "1d9a3df8"
    },
    {
      "cell_type": "markdown",
      "source": [
        "* There are orders in the dataset contianing negative values for quantity\n",
        "* The corresponding invoice numbers for these quantities begin with \"C\", meaning they are cancelled\n",
        "* These values must be removed so that they do not hinder with the anlaysis "
      ],
      "metadata": {
        "id": "X76bBoSQv9Ew"
      },
      "id": "X76bBoSQv9Ew"
    },
    {
      "cell_type": "code",
      "source": [
        "df = df[~df.InvoiceNo.str.contains(\"C\", na=False)]\n",
        "df.head()"
      ],
      "outputs": [
        {
          "output_type": "execute_result",
          "execution_count": 389,
          "data": {
            "text/html": "<div>\n<style scoped>\n    .dataframe tbody tr th:only-of-type {\n        vertical-align: middle;\n    }\n\n    .dataframe tbody tr th {\n        vertical-align: top;\n    }\n\n    .dataframe thead th {\n        text-align: right;\n    }\n</style>\n<table border=\"1\" class=\"dataframe\">\n  <thead>\n    <tr style=\"text-align: right;\">\n      <th></th>\n      <th>InvoiceNo</th>\n      <th>StockCode</th>\n      <th>Description</th>\n      <th>Quantity</th>\n      <th>InvoiceDate</th>\n      <th>UnitPrice</th>\n      <th>CustomerID</th>\n      <th>Country</th>\n    </tr>\n  </thead>\n  <tbody>\n    <tr>\n      <th>0</th>\n      <td>548550</td>\n      <td>22662</td>\n      <td>LUNCH BAG DOLLY GIRL DESIGN</td>\n      <td>10</td>\n      <td>2011-04-01 08:22:00</td>\n      <td>1.65</td>\n      <td>18161.0</td>\n      <td>United Kingdom</td>\n    </tr>\n    <tr>\n      <th>1</th>\n      <td>548550</td>\n      <td>22296</td>\n      <td>HEART IVORY TRELLIS LARGE</td>\n      <td>12</td>\n      <td>2011-04-01 08:22:00</td>\n      <td>1.65</td>\n      <td>18161.0</td>\n      <td>United Kingdom</td>\n    </tr>\n    <tr>\n      <th>2</th>\n      <td>548550</td>\n      <td>21790</td>\n      <td>VINTAGE SNAP CARDS</td>\n      <td>12</td>\n      <td>2011-04-01 08:22:00</td>\n      <td>0.85</td>\n      <td>18161.0</td>\n      <td>United Kingdom</td>\n    </tr>\n    <tr>\n      <th>3</th>\n      <td>548550</td>\n      <td>22622</td>\n      <td>BOX OF VINTAGE ALPHABET BLOCKS</td>\n      <td>2</td>\n      <td>2011-04-01 08:22:00</td>\n      <td>9.95</td>\n      <td>18161.0</td>\n      <td>United Kingdom</td>\n    </tr>\n    <tr>\n      <th>4</th>\n      <td>548550</td>\n      <td>22393</td>\n      <td>PAPERWEIGHT VINTAGE COLLAGE</td>\n      <td>6</td>\n      <td>2011-04-01 08:22:00</td>\n      <td>2.55</td>\n      <td>18161.0</td>\n      <td>United Kingdom</td>\n    </tr>\n  </tbody>\n</table>\n</div>",
            "text/plain": "  InvoiceNo StockCode                     Description  Quantity  \\\n0    548550     22662     LUNCH BAG DOLLY GIRL DESIGN        10   \n1    548550     22296       HEART IVORY TRELLIS LARGE        12   \n2    548550     21790              VINTAGE SNAP CARDS        12   \n3    548550     22622  BOX OF VINTAGE ALPHABET BLOCKS         2   \n4    548550     22393     PAPERWEIGHT VINTAGE COLLAGE         6   \n\n          InvoiceDate  UnitPrice  CustomerID         Country  \n0 2011-04-01 08:22:00       1.65     18161.0  United Kingdom  \n1 2011-04-01 08:22:00       1.65     18161.0  United Kingdom  \n2 2011-04-01 08:22:00       0.85     18161.0  United Kingdom  \n3 2011-04-01 08:22:00       9.95     18161.0  United Kingdom  \n4 2011-04-01 08:22:00       2.55     18161.0  United Kingdom  "
          },
          "metadata": {}
        }
      ],
      "execution_count": null,
      "metadata": {
        "scrolled": true,
        "id": "90b021a7",
        "outputId": "14381fee-fdba-48f5-c06e-54f5487826d6"
      },
      "id": "90b021a7"
    },
    {
      "cell_type": "code",
      "source": [
        "# Checking for null values\n",
        "df.isna().any()"
      ],
      "outputs": [
        {
          "output_type": "execute_result",
          "execution_count": 390,
          "data": {
            "text/plain": "InvoiceNo      False\nStockCode      False\nDescription     True\nQuantity       False\nInvoiceDate    False\nUnitPrice      False\nCustomerID      True\nCountry        False\ndtype: bool"
          },
          "metadata": {}
        }
      ],
      "execution_count": null,
      "metadata": {
        "id": "989da7a8",
        "outputId": "762703b3-6777-42f8-87d5-e20066490c34"
      },
      "id": "989da7a8"
    },
    {
      "cell_type": "code",
      "source": [
        "# Dropping rows with null values\n",
        "df.dropna()"
      ],
      "outputs": [
        {
          "output_type": "execute_result",
          "execution_count": 391,
          "data": {
            "text/html": "<div>\n<style scoped>\n    .dataframe tbody tr th:only-of-type {\n        vertical-align: middle;\n    }\n\n    .dataframe tbody tr th {\n        vertical-align: top;\n    }\n\n    .dataframe thead th {\n        text-align: right;\n    }\n</style>\n<table border=\"1\" class=\"dataframe\">\n  <thead>\n    <tr style=\"text-align: right;\">\n      <th></th>\n      <th>InvoiceNo</th>\n      <th>StockCode</th>\n      <th>Description</th>\n      <th>Quantity</th>\n      <th>InvoiceDate</th>\n      <th>UnitPrice</th>\n      <th>CustomerID</th>\n      <th>Country</th>\n    </tr>\n  </thead>\n  <tbody>\n    <tr>\n      <th>0</th>\n      <td>548550</td>\n      <td>22662</td>\n      <td>LUNCH BAG DOLLY GIRL DESIGN</td>\n      <td>10</td>\n      <td>2011-04-01 08:22:00</td>\n      <td>1.65</td>\n      <td>18161.0</td>\n      <td>United Kingdom</td>\n    </tr>\n    <tr>\n      <th>1</th>\n      <td>548550</td>\n      <td>22296</td>\n      <td>HEART IVORY TRELLIS LARGE</td>\n      <td>12</td>\n      <td>2011-04-01 08:22:00</td>\n      <td>1.65</td>\n      <td>18161.0</td>\n      <td>United Kingdom</td>\n    </tr>\n    <tr>\n      <th>2</th>\n      <td>548550</td>\n      <td>21790</td>\n      <td>VINTAGE SNAP CARDS</td>\n      <td>12</td>\n      <td>2011-04-01 08:22:00</td>\n      <td>0.85</td>\n      <td>18161.0</td>\n      <td>United Kingdom</td>\n    </tr>\n    <tr>\n      <th>3</th>\n      <td>548550</td>\n      <td>22622</td>\n      <td>BOX OF VINTAGE ALPHABET BLOCKS</td>\n      <td>2</td>\n      <td>2011-04-01 08:22:00</td>\n      <td>9.95</td>\n      <td>18161.0</td>\n      <td>United Kingdom</td>\n    </tr>\n    <tr>\n      <th>4</th>\n      <td>548550</td>\n      <td>22393</td>\n      <td>PAPERWEIGHT VINTAGE COLLAGE</td>\n      <td>6</td>\n      <td>2011-04-01 08:22:00</td>\n      <td>2.55</td>\n      <td>18161.0</td>\n      <td>United Kingdom</td>\n    </tr>\n    <tr>\n      <th>...</th>\n      <td>...</td>\n      <td>...</td>\n      <td>...</td>\n      <td>...</td>\n      <td>...</td>\n      <td>...</td>\n      <td>...</td>\n      <td>...</td>\n    </tr>\n    <tr>\n      <th>399821</th>\n      <td>581587</td>\n      <td>22613</td>\n      <td>PACK OF 20 SPACEBOY NAPKINS</td>\n      <td>12</td>\n      <td>2011-12-09 12:50:00</td>\n      <td>0.85</td>\n      <td>12680.0</td>\n      <td>France</td>\n    </tr>\n    <tr>\n      <th>399822</th>\n      <td>581587</td>\n      <td>22899</td>\n      <td>CHILDREN'S APRON DOLLY GIRL</td>\n      <td>6</td>\n      <td>2011-12-09 12:50:00</td>\n      <td>2.10</td>\n      <td>12680.0</td>\n      <td>France</td>\n    </tr>\n    <tr>\n      <th>399823</th>\n      <td>581587</td>\n      <td>23254</td>\n      <td>CHILDRENS CUTLERY DOLLY GIRL</td>\n      <td>4</td>\n      <td>2011-12-09 12:50:00</td>\n      <td>4.15</td>\n      <td>12680.0</td>\n      <td>France</td>\n    </tr>\n    <tr>\n      <th>399824</th>\n      <td>581587</td>\n      <td>23255</td>\n      <td>CHILDRENS CUTLERY CIRCUS PARADE</td>\n      <td>4</td>\n      <td>2011-12-09 12:50:00</td>\n      <td>4.15</td>\n      <td>12680.0</td>\n      <td>France</td>\n    </tr>\n    <tr>\n      <th>399825</th>\n      <td>581587</td>\n      <td>22138</td>\n      <td>BAKING SET 9 PIECE RETROSPOT</td>\n      <td>3</td>\n      <td>2011-12-09 12:50:00</td>\n      <td>4.95</td>\n      <td>12680.0</td>\n      <td>France</td>\n    </tr>\n  </tbody>\n</table>\n<p>303427 rows × 8 columns</p>\n</div>",
            "text/plain": "       InvoiceNo StockCode                      Description  Quantity  \\\n0         548550     22662      LUNCH BAG DOLLY GIRL DESIGN        10   \n1         548550     22296        HEART IVORY TRELLIS LARGE        12   \n2         548550     21790               VINTAGE SNAP CARDS        12   \n3         548550     22622   BOX OF VINTAGE ALPHABET BLOCKS         2   \n4         548550     22393      PAPERWEIGHT VINTAGE COLLAGE         6   \n...          ...       ...                              ...       ...   \n399821    581587     22613      PACK OF 20 SPACEBOY NAPKINS        12   \n399822    581587     22899     CHILDREN'S APRON DOLLY GIRL          6   \n399823    581587     23254    CHILDRENS CUTLERY DOLLY GIRL          4   \n399824    581587     23255  CHILDRENS CUTLERY CIRCUS PARADE         4   \n399825    581587     22138    BAKING SET 9 PIECE RETROSPOT          3   \n\n               InvoiceDate  UnitPrice  CustomerID         Country  \n0      2011-04-01 08:22:00       1.65     18161.0  United Kingdom  \n1      2011-04-01 08:22:00       1.65     18161.0  United Kingdom  \n2      2011-04-01 08:22:00       0.85     18161.0  United Kingdom  \n3      2011-04-01 08:22:00       9.95     18161.0  United Kingdom  \n4      2011-04-01 08:22:00       2.55     18161.0  United Kingdom  \n...                    ...        ...         ...             ...  \n399821 2011-12-09 12:50:00       0.85     12680.0          France  \n399822 2011-12-09 12:50:00       2.10     12680.0          France  \n399823 2011-12-09 12:50:00       4.15     12680.0          France  \n399824 2011-12-09 12:50:00       4.15     12680.0          France  \n399825 2011-12-09 12:50:00       4.95     12680.0          France  \n\n[303427 rows x 8 columns]"
          },
          "metadata": {}
        }
      ],
      "execution_count": null,
      "metadata": {
        "scrolled": true,
        "id": "d0cb519f",
        "outputId": "0ccf9b78-dc71-43e0-ccb9-7d2c374ba3b3"
      },
      "id": "d0cb519f"
    },
    {
      "cell_type": "markdown",
      "source": [
        "## **Calculate the RFM values for each customer (by customer id)**"
      ],
      "metadata": {
        "id": "d70c3ea8"
      },
      "id": "d70c3ea8"
    },
    {
      "cell_type": "markdown",
      "source": [
        "* Sort customers based on each: recency, frequency, and monetary values\n",
        "* December 2011 is also the last month listed in the given data\n",
        "* So we can use the last listed date in the set to check for recency"
      ],
      "metadata": {
        "id": "nfoHNDsOwfIk"
      },
      "id": "nfoHNDsOwfIk"
    },
    {
      "cell_type": "code",
      "source": [
        "# Defining the last listed date for further calculations\n",
        "end_date = df['InvoiceDate'].max() + timedelta(days=1)\n",
        "print(end_date)"
      ],
      "outputs": [
        {
          "output_type": "stream",
          "name": "stdout",
          "text": "2011-12-10 12:50:00\n"
        }
      ],
      "execution_count": null,
      "metadata": {
        "id": "8d7e5ef6",
        "outputId": "4bacc075-92c2-487b-f0b4-b1a50ed2fcf5"
      },
      "id": "8d7e5ef6"
    },
    {
      "cell_type": "code",
      "source": [
        "# Calculating the recency of each purchase\n",
        "rec = df.groupby(by='CustomerID', as_index=False)[\"InvoiceDate\"].max() \n",
        "rec.columns = [\"CustomerID\", \"InvoiceDate\"]\n",
        "\n",
        "rec['Recency'] = rec['InvoiceDate'].apply(lambda x: (end_date.year - x.year) * 12 + (end_date.month - x.month))\n",
        "rec"
      ],
      "outputs": [
        {
          "output_type": "execute_result",
          "execution_count": 393,
          "data": {
            "text/html": "<div>\n<style scoped>\n    .dataframe tbody tr th:only-of-type {\n        vertical-align: middle;\n    }\n\n    .dataframe tbody tr th {\n        vertical-align: top;\n    }\n\n    .dataframe thead th {\n        text-align: right;\n    }\n</style>\n<table border=\"1\" class=\"dataframe\">\n  <thead>\n    <tr style=\"text-align: right;\">\n      <th></th>\n      <th>CustomerID</th>\n      <th>InvoiceDate</th>\n      <th>Recency</th>\n    </tr>\n  </thead>\n  <tbody>\n    <tr>\n      <th>0</th>\n      <td>12347.0</td>\n      <td>2011-12-07 15:52:00</td>\n      <td>0</td>\n    </tr>\n    <tr>\n      <th>1</th>\n      <td>12348.0</td>\n      <td>2011-09-25 13:13:00</td>\n      <td>3</td>\n    </tr>\n    <tr>\n      <th>2</th>\n      <td>12349.0</td>\n      <td>2011-11-21 09:51:00</td>\n      <td>1</td>\n    </tr>\n    <tr>\n      <th>3</th>\n      <td>12352.0</td>\n      <td>2011-11-03 14:37:00</td>\n      <td>1</td>\n    </tr>\n    <tr>\n      <th>4</th>\n      <td>12353.0</td>\n      <td>2011-05-19 17:47:00</td>\n      <td>7</td>\n    </tr>\n    <tr>\n      <th>...</th>\n      <td>...</td>\n      <td>...</td>\n      <td>...</td>\n    </tr>\n    <tr>\n      <th>3845</th>\n      <td>18278.0</td>\n      <td>2011-09-27 11:58:00</td>\n      <td>3</td>\n    </tr>\n    <tr>\n      <th>3846</th>\n      <td>18281.0</td>\n      <td>2011-06-12 10:53:00</td>\n      <td>6</td>\n    </tr>\n    <tr>\n      <th>3847</th>\n      <td>18282.0</td>\n      <td>2011-12-02 11:43:00</td>\n      <td>0</td>\n    </tr>\n    <tr>\n      <th>3848</th>\n      <td>18283.0</td>\n      <td>2011-12-06 12:02:00</td>\n      <td>0</td>\n    </tr>\n    <tr>\n      <th>3849</th>\n      <td>18287.0</td>\n      <td>2011-10-28 09:29:00</td>\n      <td>2</td>\n    </tr>\n  </tbody>\n</table>\n<p>3850 rows × 3 columns</p>\n</div>",
            "text/plain": "      CustomerID         InvoiceDate  Recency\n0        12347.0 2011-12-07 15:52:00        0\n1        12348.0 2011-09-25 13:13:00        3\n2        12349.0 2011-11-21 09:51:00        1\n3        12352.0 2011-11-03 14:37:00        1\n4        12353.0 2011-05-19 17:47:00        7\n...          ...                 ...      ...\n3845     18278.0 2011-09-27 11:58:00        3\n3846     18281.0 2011-06-12 10:53:00        6\n3847     18282.0 2011-12-02 11:43:00        0\n3848     18283.0 2011-12-06 12:02:00        0\n3849     18287.0 2011-10-28 09:29:00        2\n\n[3850 rows x 3 columns]"
          },
          "metadata": {}
        }
      ],
      "execution_count": null,
      "metadata": {
        "scrolled": true,
        "id": "982f4586",
        "outputId": "7822f1b6-1467-4eb1-dd5e-53863612a6c7"
      },
      "id": "982f4586"
    },
    {
      "cell_type": "code",
      "source": [
        "# Calculating the frequency of purchases per customer ID\n",
        "freq = df.drop_duplicates().groupby(by=['CustomerID'], as_index=False)['InvoiceDate'].count()\n",
        "freq.columns = ['CustomerID', 'Frequency']\n",
        "freq"
      ],
      "outputs": [
        {
          "output_type": "execute_result",
          "execution_count": 394,
          "data": {
            "text/html": "<div>\n<style scoped>\n    .dataframe tbody tr th:only-of-type {\n        vertical-align: middle;\n    }\n\n    .dataframe tbody tr th {\n        vertical-align: top;\n    }\n\n    .dataframe thead th {\n        text-align: right;\n    }\n</style>\n<table border=\"1\" class=\"dataframe\">\n  <thead>\n    <tr style=\"text-align: right;\">\n      <th></th>\n      <th>CustomerID</th>\n      <th>Frequency</th>\n    </tr>\n  </thead>\n  <tbody>\n    <tr>\n      <th>0</th>\n      <td>12347.0</td>\n      <td>122</td>\n    </tr>\n    <tr>\n      <th>1</th>\n      <td>12348.0</td>\n      <td>8</td>\n    </tr>\n    <tr>\n      <th>2</th>\n      <td>12349.0</td>\n      <td>73</td>\n    </tr>\n    <tr>\n      <th>3</th>\n      <td>12352.0</td>\n      <td>47</td>\n    </tr>\n    <tr>\n      <th>4</th>\n      <td>12353.0</td>\n      <td>4</td>\n    </tr>\n    <tr>\n      <th>...</th>\n      <td>...</td>\n      <td>...</td>\n    </tr>\n    <tr>\n      <th>3845</th>\n      <td>18278.0</td>\n      <td>9</td>\n    </tr>\n    <tr>\n      <th>3846</th>\n      <td>18281.0</td>\n      <td>7</td>\n    </tr>\n    <tr>\n      <th>3847</th>\n      <td>18282.0</td>\n      <td>12</td>\n    </tr>\n    <tr>\n      <th>3848</th>\n      <td>18283.0</td>\n      <td>591</td>\n    </tr>\n    <tr>\n      <th>3849</th>\n      <td>18287.0</td>\n      <td>70</td>\n    </tr>\n  </tbody>\n</table>\n<p>3850 rows × 2 columns</p>\n</div>",
            "text/plain": "      CustomerID  Frequency\n0        12347.0        122\n1        12348.0          8\n2        12349.0         73\n3        12352.0         47\n4        12353.0          4\n...          ...        ...\n3845     18278.0          9\n3846     18281.0          7\n3847     18282.0         12\n3848     18283.0        591\n3849     18287.0         70\n\n[3850 rows x 2 columns]"
          },
          "metadata": {}
        }
      ],
      "execution_count": null,
      "metadata": {
        "id": "0d3cb08e",
        "outputId": "dbb1217c-a02f-4a21-8b91-bfeeac826810"
      },
      "id": "0d3cb08e"
    },
    {
      "cell_type": "code",
      "source": [
        "# Calculating the total amount consumers have spent per ID\n",
        "\n",
        "df['Total'] = df['UnitPrice'] * df['Quantity']\n",
        "monet = df.groupby(by='CustomerID', as_index=False)['Total'].sum()\n",
        "monet.columns = ['CustomerID', 'Monetary']\n",
        "monet"
      ],
      "outputs": [
        {
          "output_type": "execute_result",
          "execution_count": 395,
          "data": {
            "text/html": "<div>\n<style scoped>\n    .dataframe tbody tr th:only-of-type {\n        vertical-align: middle;\n    }\n\n    .dataframe tbody tr th {\n        vertical-align: top;\n    }\n\n    .dataframe thead th {\n        text-align: right;\n    }\n</style>\n<table border=\"1\" class=\"dataframe\">\n  <thead>\n    <tr style=\"text-align: right;\">\n      <th></th>\n      <th>CustomerID</th>\n      <th>Monetary</th>\n    </tr>\n  </thead>\n  <tbody>\n    <tr>\n      <th>0</th>\n      <td>12347.0</td>\n      <td>3122.82</td>\n    </tr>\n    <tr>\n      <th>1</th>\n      <td>12348.0</td>\n      <td>677.00</td>\n    </tr>\n    <tr>\n      <th>2</th>\n      <td>12349.0</td>\n      <td>1757.55</td>\n    </tr>\n    <tr>\n      <th>3</th>\n      <td>12352.0</td>\n      <td>944.23</td>\n    </tr>\n    <tr>\n      <th>4</th>\n      <td>12353.0</td>\n      <td>89.00</td>\n    </tr>\n    <tr>\n      <th>...</th>\n      <td>...</td>\n      <td>...</td>\n    </tr>\n    <tr>\n      <th>3845</th>\n      <td>18278.0</td>\n      <td>173.90</td>\n    </tr>\n    <tr>\n      <th>3846</th>\n      <td>18281.0</td>\n      <td>80.82</td>\n    </tr>\n    <tr>\n      <th>3847</th>\n      <td>18282.0</td>\n      <td>178.05</td>\n    </tr>\n    <tr>\n      <th>3848</th>\n      <td>18283.0</td>\n      <td>1776.98</td>\n    </tr>\n    <tr>\n      <th>3849</th>\n      <td>18287.0</td>\n      <td>1837.28</td>\n    </tr>\n  </tbody>\n</table>\n<p>3850 rows × 2 columns</p>\n</div>",
            "text/plain": "      CustomerID  Monetary\n0        12347.0   3122.82\n1        12348.0    677.00\n2        12349.0   1757.55\n3        12352.0    944.23\n4        12353.0     89.00\n...          ...       ...\n3845     18278.0    173.90\n3846     18281.0     80.82\n3847     18282.0    178.05\n3848     18283.0   1776.98\n3849     18287.0   1837.28\n\n[3850 rows x 2 columns]"
          },
          "metadata": {}
        }
      ],
      "execution_count": null,
      "metadata": {
        "scrolled": true,
        "id": "a23c94e7",
        "outputId": "06bf5dd2-c270-4137-eefb-d637b525eeef"
      },
      "id": "a23c94e7"
    },
    {
      "cell_type": "code",
      "source": [
        "# Combining everything together by merging on customer ID\n",
        "\n",
        "merged = rec.merge(freq, on=\"CustomerID\")\n",
        "merged = merged.merge(monet, on=\"CustomerID\")\n",
        "merged.drop(columns=['InvoiceDate'], inplace=True)\n",
        "merged"
      ],
      "outputs": [
        {
          "output_type": "execute_result",
          "execution_count": 396,
          "data": {
            "text/html": "<div>\n<style scoped>\n    .dataframe tbody tr th:only-of-type {\n        vertical-align: middle;\n    }\n\n    .dataframe tbody tr th {\n        vertical-align: top;\n    }\n\n    .dataframe thead th {\n        text-align: right;\n    }\n</style>\n<table border=\"1\" class=\"dataframe\">\n  <thead>\n    <tr style=\"text-align: right;\">\n      <th></th>\n      <th>CustomerID</th>\n      <th>Recency</th>\n      <th>Frequency</th>\n      <th>Monetary</th>\n    </tr>\n  </thead>\n  <tbody>\n    <tr>\n      <th>0</th>\n      <td>12347.0</td>\n      <td>0</td>\n      <td>122</td>\n      <td>3122.82</td>\n    </tr>\n    <tr>\n      <th>1</th>\n      <td>12348.0</td>\n      <td>3</td>\n      <td>8</td>\n      <td>677.00</td>\n    </tr>\n    <tr>\n      <th>2</th>\n      <td>12349.0</td>\n      <td>1</td>\n      <td>73</td>\n      <td>1757.55</td>\n    </tr>\n    <tr>\n      <th>3</th>\n      <td>12352.0</td>\n      <td>1</td>\n      <td>47</td>\n      <td>944.23</td>\n    </tr>\n    <tr>\n      <th>4</th>\n      <td>12353.0</td>\n      <td>7</td>\n      <td>4</td>\n      <td>89.00</td>\n    </tr>\n    <tr>\n      <th>...</th>\n      <td>...</td>\n      <td>...</td>\n      <td>...</td>\n      <td>...</td>\n    </tr>\n    <tr>\n      <th>3845</th>\n      <td>18278.0</td>\n      <td>3</td>\n      <td>9</td>\n      <td>173.90</td>\n    </tr>\n    <tr>\n      <th>3846</th>\n      <td>18281.0</td>\n      <td>6</td>\n      <td>7</td>\n      <td>80.82</td>\n    </tr>\n    <tr>\n      <th>3847</th>\n      <td>18282.0</td>\n      <td>0</td>\n      <td>12</td>\n      <td>178.05</td>\n    </tr>\n    <tr>\n      <th>3848</th>\n      <td>18283.0</td>\n      <td>0</td>\n      <td>591</td>\n      <td>1776.98</td>\n    </tr>\n    <tr>\n      <th>3849</th>\n      <td>18287.0</td>\n      <td>2</td>\n      <td>70</td>\n      <td>1837.28</td>\n    </tr>\n  </tbody>\n</table>\n<p>3850 rows × 4 columns</p>\n</div>",
            "text/plain": "      CustomerID  Recency  Frequency  Monetary\n0        12347.0        0        122   3122.82\n1        12348.0        3          8    677.00\n2        12349.0        1         73   1757.55\n3        12352.0        1         47    944.23\n4        12353.0        7          4     89.00\n...          ...      ...        ...       ...\n3845     18278.0        3          9    173.90\n3846     18281.0        6          7     80.82\n3847     18282.0        0         12    178.05\n3848     18283.0        0        591   1776.98\n3849     18287.0        2         70   1837.28\n\n[3850 rows x 4 columns]"
          },
          "metadata": {}
        }
      ],
      "execution_count": null,
      "metadata": {
        "scrolled": true,
        "id": "d1b7c7a0",
        "outputId": "9489cf79-9270-45c6-92ba-7a2484843158"
      },
      "id": "d1b7c7a0"
    },
    {
      "cell_type": "code",
      "source": [
        "# Turning everything into numpy arrays\n",
        "\n",
        "merged_np = merged[[\"Recency\", \"Frequency\", \"Monetary\"]]\n",
        "merged_np = merged_np.to_numpy()\n",
        "print(merged_np)"
      ],
      "outputs": [
        {
          "output_type": "stream",
          "name": "stdout",
          "text": "[[0.00000e+00 1.22000e+02 3.12282e+03]\n [3.00000e+00 8.00000e+00 6.77000e+02]\n [1.00000e+00 7.30000e+01 1.75755e+03]\n ...\n [0.00000e+00 1.20000e+01 1.78050e+02]\n [0.00000e+00 5.91000e+02 1.77698e+03]\n [2.00000e+00 7.00000e+01 1.83728e+03]]\n"
        }
      ],
      "execution_count": null,
      "metadata": {
        "id": "612dd162",
        "outputId": "fcc90fba-d71d-4150-e719-1f235ddfe5f3"
      },
      "id": "612dd162"
    },
    {
      "cell_type": "code",
      "source": [
        "grouping_np = grouping.to_numpy()"
      ],
      "outputs": [],
      "execution_count": null,
      "metadata": {
        "id": "59f8cb97"
      },
      "id": "59f8cb97"
    },
    {
      "cell_type": "markdown",
      "source": [
        "## **Use the elbow method to identify how many customer segments exist, using the RFM**"
      ],
      "metadata": {
        "id": "df0bf568"
      },
      "id": "df0bf568"
    },
    {
      "cell_type": "code",
      "source": [
        "from sklearn.preprocessing import StandardScaler\n",
        "from sklearn.cluster import KMeans\n",
        "from scipy.spatial.distance import cdist"
      ],
      "outputs": [],
      "execution_count": null,
      "metadata": {
        "id": "e01f3c3f"
      },
      "id": "e01f3c3f"
    },
    {
      "cell_type": "code",
      "source": [
        "# identifying how many clusters exists using elbow method\n",
        "# distortions: avg squared distance from cluster center to other points\n",
        "squared_distance = [] \n",
        "# inertias: sum of squared distances between sample and cluster center\n",
        "sum_squared_distance = [] \n",
        "mapping1 = {}\n",
        "mapping2 = {}\n",
        "Range = range(1, 10)\n",
        " \n",
        "for k in Range:\n",
        "    kmean_method = KMeans(n_clusters=k).fit(merged_np)\n",
        "    kmean_method.fit(merged_np)\n",
        " \n",
        "    squared_distance.append(sum(np.min(cdist(merged_np, kmean_method.cluster_centers_, 'euclidean'), axis=1)) / merged_np.shape[0])\n",
        "    sum_squared_distance.append(kmean_method.inertia_)\n",
        " \n",
        "    mapping1[k] = sum(np.min(cdist(merged_np, kmean_method.cluster_centers_, 'euclidean'), axis=1)) / merged_np.shape[0]\n",
        "    mapping2[k] = kmean_method.inertia_"
      ],
      "outputs": [],
      "execution_count": null,
      "metadata": {
        "id": "db2a5c99"
      },
      "id": "db2a5c99"
    },
    {
      "cell_type": "markdown",
      "source": [
        "### **Plotting using the elbow method:**"
      ],
      "metadata": {
        "id": "JjQ9EwPS0WjU"
      },
      "id": "JjQ9EwPS0WjU"
    },
    {
      "cell_type": "code",
      "source": [
        "plt.plot(Range, squared_distance, 'bx-')\n",
        "plt.xlabel('K Values')\n",
        "plt.ylabel('Average Squared Distance')\n",
        "plt.title('The Elbow Method using Distortion')\n",
        "plt.show()"
      ],
      "outputs": [
        {
          "output_type": "display_data",
          "data": {
            "image/png": "[encoded data removed]",
            "text/plain": "<Figure size 432x288 with 1 Axes>"
          },
          "metadata": {
            "needs_background": "light"
          }
        }
      ],
      "execution_count": null,
      "metadata": {
        "scrolled": true,
        "id": "85779c17",
        "outputId": "1addaec4-9d20-4d03-dd95-113acd13560e"
      },
      "id": "85779c17"
    },
    {
      "cell_type": "code",
      "source": [
        "plt.plot(Range, sum_squared_distance, 'bx-')\n",
        "plt.xlabel('K Values')\n",
        "plt.ylabel('Sum of Squared Distances')\n",
        "plt.title('The Elbow Method using Sum of Squared Distances')\n",
        "plt.show()"
      ],
      "outputs": [
        {
          "output_type": "display_data",
          "data": {
            "image/png": "[encoded data removed]",
            "text/plain": "<Figure size 432x288 with 1 Axes>"
          },
          "metadata": {
            "needs_background": "light"
          }
        }
      ],
      "execution_count": null,
      "metadata": {
        "scrolled": true,
        "id": "0f71d01a",
        "outputId": "8f5ffa81-8608-4bf1-e85a-aa8995925545"
      },
      "id": "0f71d01a"
    },
    {
      "cell_type": "markdown",
      "source": [
        "* In the elbow method, we choose the elbow of the curve as the number of clusters to use\n",
        "* Observing the graphs above, k = 3 and k = 6 shows a change in slope\n",
        "* So the possible number of clusters can be either 3 or 6"
      ],
      "metadata": {
        "id": "NomWH8io0gkH"
      },
      "id": "NomWH8io0gkH"
    },
    {
      "cell_type": "markdown",
      "source": [
        "## **Creating Segments using KMeans:**"
      ],
      "metadata": {
        "id": "0e7921de"
      },
      "id": "0e7921de"
    },
    {
      "cell_type": "markdown",
      "source": [
        "* Using k = 3 gives three clusters,\n",
        "* One of which contains 3000 observations, while the other contained 4\n",
        "* The vast difference in cluster size indicates that there are outliers.\n",
        "* So we must choose a larger k value. The elbow method using distortion shows that \n",
        "* The next possible largest \"elbow\" or k-value is 6, which could give a more varied distribution"
      ],
      "metadata": {
        "id": "5JRy-nBU0jiI"
      },
      "id": "5JRy-nBU0jiI"
    },
    {
      "cell_type": "code",
      "source": [
        "kmean_method = KMeans(n_clusters=6).fit(merged_np)\n",
        "kmean_method.fit(merged_np)"
      ],
      "outputs": [
        {
          "output_type": "execute_result",
          "execution_count": 405,
          "data": {
            "text/plain": "KMeans(n_clusters=6)"
          },
          "metadata": {}
        }
      ],
      "execution_count": null,
      "metadata": {
        "id": "0e8c59e1",
        "outputId": "ff0fc30d-b627-4c38-da4e-ffe73b85e3a6"
      },
      "id": "0e8c59e1"
    },
    {
      "cell_type": "code",
      "source": [
        "merged[\"KMean_Cluster\"] = np.nan"
      ],
      "outputs": [],
      "execution_count": null,
      "metadata": {
        "id": "a2762264"
      },
      "id": "a2762264"
    },
    {
      "cell_type": "code",
      "source": [
        "for indx, row in merged.iterrows():\n",
        "    merged.iloc[indx,4] = (kmean_method.predict(merged.iloc[indx,:][[\"Recency\", \"Frequency\", \"Monetary\"]].to_numpy().reshape(1, -1))[0])"
      ],
      "outputs": [],
      "execution_count": null,
      "metadata": {
        "id": "8d139835"
      },
      "id": "8d139835"
    },
    {
      "cell_type": "code",
      "source": [
        "merged.head()"
      ],
      "outputs": [
        {
          "output_type": "execute_result",
          "execution_count": 408,
          "data": {
            "text/html": "<div>\n<style scoped>\n    .dataframe tbody tr th:only-of-type {\n        vertical-align: middle;\n    }\n\n    .dataframe tbody tr th {\n        vertical-align: top;\n    }\n\n    .dataframe thead th {\n        text-align: right;\n    }\n</style>\n<table border=\"1\" class=\"dataframe\">\n  <thead>\n    <tr style=\"text-align: right;\">\n      <th></th>\n      <th>CustomerID</th>\n      <th>Recency</th>\n      <th>Frequency</th>\n      <th>Monetary</th>\n      <th>KMean_Cluster</th>\n    </tr>\n  </thead>\n  <tbody>\n    <tr>\n      <th>0</th>\n      <td>12347.0</td>\n      <td>0</td>\n      <td>122</td>\n      <td>3122.82</td>\n      <td>5.0</td>\n    </tr>\n    <tr>\n      <th>1</th>\n      <td>12348.0</td>\n      <td>3</td>\n      <td>8</td>\n      <td>677.00</td>\n      <td>0.0</td>\n    </tr>\n    <tr>\n      <th>2</th>\n      <td>12349.0</td>\n      <td>1</td>\n      <td>73</td>\n      <td>1757.55</td>\n      <td>0.0</td>\n    </tr>\n    <tr>\n      <th>3</th>\n      <td>12352.0</td>\n      <td>1</td>\n      <td>47</td>\n      <td>944.23</td>\n      <td>0.0</td>\n    </tr>\n    <tr>\n      <th>4</th>\n      <td>12353.0</td>\n      <td>7</td>\n      <td>4</td>\n      <td>89.00</td>\n      <td>0.0</td>\n    </tr>\n  </tbody>\n</table>\n</div>",
            "text/plain": "   CustomerID  Recency  Frequency  Monetary  KMean_Cluster\n0     12347.0        0        122   3122.82            5.0\n1     12348.0        3          8    677.00            0.0\n2     12349.0        1         73   1757.55            0.0\n3     12352.0        1         47    944.23            0.0\n4     12353.0        7          4     89.00            0.0"
          },
          "metadata": {}
        }
      ],
      "execution_count": null,
      "metadata": {
        "id": "a8238314",
        "outputId": "20771cc2-2c46-42a0-c524-b467a4279689"
      },
      "id": "a8238314"
    },
    {
      "cell_type": "code",
      "source": [
        "merged.KMean_Cluster.value_counts()"
      ],
      "outputs": [
        {
          "output_type": "execute_result",
          "execution_count": 409,
          "data": {
            "text/plain": "0.0    3280\n5.0     488\n3.0      55\n2.0      18\n4.0       5\n1.0       4\nName: KMean_Cluster, dtype: int64"
          },
          "metadata": {}
        }
      ],
      "execution_count": null,
      "metadata": {
        "scrolled": true,
        "id": "341328f2",
        "outputId": "1cf4631f-0502-410d-942c-3664695dd2aa"
      },
      "id": "341328f2"
    },
    {
      "cell_type": "markdown",
      "source": [
        "## Plotting the KMeans Clusters with Implot"
      ],
      "metadata": {
        "id": "4a8c0bf8"
      },
      "id": "4a8c0bf8"
    },
    {
      "cell_type": "code",
      "source": [
        "# Plotting the cluster on its own plane separately:\n",
        "sns.lmplot(x =\"Frequency\", y =\"Monetary\", fit_reg=False, hue=\"KMean_Cluster\", col=\"Recency\", data=merged, height = 3.5)"
      ],
      "outputs": [
        {
          "output_type": "execute_result",
          "execution_count": 410,
          "data": {
            "text/plain": "<seaborn.axisgrid.FacetGrid at 0x1c9d6523220>"
          },
          "metadata": {}
        },
        {
          "output_type": "display_data",
          "data": {
            "image/png": "[encoded data removed]",
            "text/plain": "<Figure size 2350.25x252 with 9 Axes>"
          },
          "metadata": {
            "needs_background": "light"
          }
        }
      ],
      "execution_count": null,
      "metadata": {
        "id": "4aea7639",
        "outputId": "52256cfb-df72-4ad6-dd43-8a291ee21d9d"
      },
      "id": "4aea7639"
    },
    {
      "cell_type": "markdown",
      "source": [
        "## Print and Analyze the Cluster Centers"
      ],
      "metadata": {
        "id": "6cc751bd"
      },
      "id": "6cc751bd"
    },
    {
      "cell_type": "code",
      "source": [
        "#There are six clusters: Recency, Monetary, and Frequency centers for each cluster are given below:\n",
        "for cluster in kmean_method.cluster_centers_:\n",
        "    print(f\"Recency: {round(cluster[0], 2)}\\tFrequency: {round(cluster[1], 2)}\\tMonetary: {round(cluster[2], 2)}\")"
      ],
      "outputs": [
        {
          "output_type": "stream",
          "name": "stdout",
          "text": "Recency: 2.56\tFrequency: 47.91\tMonetary: 678.82\nRecency: 0.0\tFrequency: 532.25\tMonetary: 186032.31\nRecency: 0.56\tFrequency: 924.56\tMonetary: 38263.92\nRecency: 0.77\tFrequency: 251.34\tMonetary: 13457.96\nRecency: 0.4\tFrequency: 2415.8\tMonetary: 83724.11\nRecency: 0.97\tFrequency: 198.82\tMonetary: 3864.9\n"
        }
      ],
      "execution_count": null,
      "metadata": {
        "scrolled": true,
        "id": "6abe7fab",
        "outputId": "0b2c413f-ed4a-447c-8148-be516060dd73"
      },
      "id": "6abe7fab"
    },
    {
      "cell_type": "markdown",
      "source": [
        "## **Taking top listed row as cluster 1, second listed row as cluster 2, etc.**"
      ],
      "metadata": {
        "id": "vLXNPSvw0yVm"
      },
      "id": "vLXNPSvw0yVm"
    },
    {
      "cell_type": "markdown",
      "source": [
        "## 🟣 **CLUSTER 1 : (Observe)**\n",
        "\n",
        "\n",
        "* Cluster 1 has the higest recency value out of all the clusters, indicating that the users in this cluster have the most recent purchases out of all the clusters. \n",
        "* As these customers are the online retail's most recent customers, they are likely to remember and revisit this online retail in the future. \n",
        "\n",
        "\n",
        "* Paired with the low frequency and monetary values, one can assume that these customers are new to shopping at this online retail.\n",
        "* They just started shopping recently, hence the high recency, but have not made many purchases yet, (low monetary value) indicating that they may be new.\n",
        "\n",
        "To be done:\n",
        "* The retailer must observe their behavior in the near future to assess how to approach them.\n",
        "* As they are recent/new customers, they'll have the retail's name fresh in their mind and will likely revisit it."
      ],
      "metadata": {
        "id": "iwCNtpAS01mX"
      },
      "id": "iwCNtpAS01mX"
    },
    {
      "cell_type": "markdown",
      "source": [
        "\n",
        "\n",
        "---\n",
        "\n"
      ],
      "metadata": {
        "id": "9hR3s80U26SZ"
      },
      "id": "9hR3s80U26SZ"
    },
    {
      "cell_type": "markdown",
      "source": [
        "## 🟣 **CLUSTER 2: (need work)**\n",
        "\n",
        "\n",
        "* These customers have the lowest recency value (0.0), indicating that they have shopped very little to none in the specified time range.\n",
        "* However, their frequency value is ten times that of cluster 1. They also have the highest monetary value out of all clusters. \n",
        "* Thus this group may consist of customers who previously spent a lot of money at this online retail, but have lost interest (previously loyal customers, thus the lower-than-expected frequency as well).\n",
        "\n",
        "To be done:\n",
        "* a) Examine why these customers suddenly dropped interest in their retail to see if there are any issues that must be immediately addressed, or changes to be implemented, so that this behavior is not replicated by other customers in the future.\n",
        "* b) Needs to rekindle these customers's interest in the retail as they have to potential to once again contribute significantly to the retail's profit. "
      ],
      "metadata": {
        "id": "EqLPj44c1OTR"
      },
      "id": "EqLPj44c1OTR"
    },
    {
      "cell_type": "markdown",
      "source": [
        "\n",
        "\n",
        "---\n",
        "\n"
      ],
      "metadata": {
        "id": "7S_fn6Hr28TJ"
      },
      "id": "7S_fn6Hr28TJ"
    },
    {
      "cell_type": "markdown",
      "source": [
        "## 🟣 **CLUSTERS 3 AND 5 (increase engagement):**\n",
        "\n",
        "\n",
        "* Clusters 3 and 5's customers are the third and second-highest-spending customers the online retail has, respectively (3rd and 5th highest monetary values). They have similar recency values (close to 0.65) as well. \n",
        "* This implies that both clusters moderately frequently visit the online retail, but are high spenders. \n",
        "* Cluster 5 however has a larger frequency value than cluster 3. \n",
        "\n",
        "\n",
        "To be done:\n",
        "* So while both clusters significantly contribute to the retail's current success, the retail can focus on advertising to these customers to increase their shopping frequency,since these customers have shown that they trust this retail and are willing to spend large amounts of money as well."
      ],
      "metadata": {
        "id": "jp-mFZTW1lEn"
      },
      "id": "jp-mFZTW1lEn"
    },
    {
      "cell_type": "markdown",
      "source": [
        "\n",
        "\n",
        "---\n",
        "\n"
      ],
      "metadata": {
        "id": "xA964_g429Uz"
      },
      "id": "xA964_g429Uz"
    },
    {
      "cell_type": "markdown",
      "source": [
        "\n",
        "## 🟣 **CLUSTER 4 (need work):**\n",
        "\n",
        "\n",
        "* These customers have the second highest recency out of all the clusters, but the second lowest frequencies and monetary values.\n",
        "* This may translate to customers who in the speicifed period, visited the online retail, tried and purchased a few items from it, but may have been dissatisfied with its service and discontinued using it.\n",
        "\n",
        "To be done:\n",
        "* Like for cluster 2, the retail must figure what caused these customers to lose interest in the brand, and whether there were any negative effects/first impressions that may hurt future customers as well.\n",
        "* Unlike cluster 2, these customers have not shown loyalty to this retail, so the retail can redirect their adveritisng efforts to other clusters that show potential."
      ],
      "metadata": {
        "id": "5u2KlbHv2ENA"
      },
      "id": "5u2KlbHv2ENA"
    },
    {
      "cell_type": "markdown",
      "source": [
        "\n",
        "\n",
        "---\n",
        "\n"
      ],
      "metadata": {
        "id": "oeiHm_az2-CD"
      },
      "id": "oeiHm_az2-CD"
    },
    {
      "cell_type": "markdown",
      "source": [
        "## 🟣 **CLUSTER 6:**\n",
        "\n",
        "* Cluster six bears similarity in terms of recency to clusters 3 and 5, however its frequency and monetary values are must lower.\n",
        "* However, it's monetary value is not low enough to indicate complete disinterest in the retail. \n",
        "\n",
        "\n",
        "To be done:\n",
        "* Using clusters 3 and 5 as reference, if the retail could increase cluster 6's frequency value, they may increase their monetary values as well."
      ],
      "metadata": {
        "id": "gP41jRUK2T5_"
      },
      "id": "gP41jRUK2T5_"
    },
    {
      "cell_type": "markdown",
      "source": [
        "## **Creating Segments with Agglomerative Clustering**"
      ],
      "metadata": {
        "id": "2daaa303"
      },
      "id": "2daaa303"
    },
    {
      "cell_type": "code",
      "source": [
        "from sklearn.cluster import AgglomerativeClustering"
      ],
      "outputs": [],
      "execution_count": null,
      "metadata": {
        "id": "f5e55a43"
      },
      "id": "f5e55a43"
    },
    {
      "cell_type": "code",
      "source": [
        "agglomerative_clustering_model = AgglomerativeClustering(n_clusters=6).fit(merged_np)\n",
        "agglomerative_clustering_model.fit(merged_np)"
      ],
      "outputs": [
        {
          "output_type": "execute_result",
          "execution_count": 414,
          "data": {
            "text/plain": "AgglomerativeClustering(n_clusters=6)"
          },
          "metadata": {}
        }
      ],
      "execution_count": null,
      "metadata": {
        "scrolled": true,
        "id": "8fd38ac5",
        "outputId": "54b104b6-9fbb-4a7e-b2f4-92f9bb480592"
      },
      "id": "8fd38ac5"
    },
    {
      "cell_type": "code",
      "source": [
        "merged[\"clusterID_AggClustering\"] = np.nan\n",
        "\n",
        "for indx, row in merged.iterrows():\n",
        "    merged.iloc[indx,5] = agglomerative_clustering_model.labels_[indx]"
      ],
      "outputs": [],
      "execution_count": null,
      "metadata": {
        "id": "3ed459ea"
      },
      "id": "3ed459ea"
    },
    {
      "cell_type": "code",
      "source": [
        "\n",
        "merged.clusterID_AggClustering.value_counts()"
      ],
      "outputs": [
        {
          "output_type": "execute_result",
          "execution_count": 416,
          "data": {
            "text/plain": "4.0    3494\n0.0     319\n5.0      18\n2.0      12\n1.0       4\n3.0       3\nName: clusterID_AggClustering, dtype: int64"
          },
          "metadata": {}
        }
      ],
      "execution_count": null,
      "metadata": {
        "scrolled": true,
        "id": "6ef7b8f3",
        "outputId": "dde010ec-214f-4594-f46c-e4fde470260b"
      },
      "id": "6ef7b8f3"
    },
    {
      "cell_type": "markdown",
      "source": [
        "## **Plotting the Agglomerative Method Clusters:**"
      ],
      "metadata": {
        "id": "9e009bc1"
      },
      "id": "9e009bc1"
    },
    {
      "cell_type": "code",
      "source": [
        "# agglomerative clustering\n",
        "sns.lmplot(x =\"Frequency\", y =\"Monetary\", fit_reg=False, hue=\"clusterID_AggClustering\", col=\"Recency\", data=merged, height = 2.5)"
      ],
      "outputs": [
        {
          "output_type": "execute_result",
          "execution_count": 417,
          "data": {
            "text/plain": "<seaborn.axisgrid.FacetGrid at 0x1c9da73bbb0>"
          },
          "metadata": {}
        },
        {
          "output_type": "display_data",
          "data": {
            "image/png": "[encoded data removed]",
            "text/plain": "<Figure size 1748.5x180 with 9 Axes>"
          },
          "metadata": {
            "needs_background": "light"
          }
        }
      ],
      "execution_count": null,
      "metadata": {
        "id": "e0af3c17",
        "outputId": "ddbf6284-d472-4eec-9836-20a6a7ecaa7e"
      },
      "id": "e0af3c17"
    },
    {
      "cell_type": "markdown",
      "source": [
        "## **Visualize the clusters using a dendogram**"
      ],
      "metadata": {
        "id": "0c5d60ee"
      },
      "id": "0c5d60ee"
    },
    {
      "cell_type": "code",
      "source": [
        "from scipy.cluster.hierarchy import dendrogram, linkage"
      ],
      "outputs": [],
      "execution_count": null,
      "metadata": {
        "id": "91ca1dea"
      },
      "id": "91ca1dea"
    },
    {
      "cell_type": "code",
      "source": [
        "def plot_dendrogram(model, **kwargs):\n",
        "    counts = np.zeros(model.children_.shape[0])\n",
        "    n_samples = len(model.labels_)\n",
        "    for i, merge in enumerate(model.children_):\n",
        "        current_count = 0\n",
        "        for child_idx in merge:\n",
        "            if child_idx < n_samples:\n",
        "                current_count += 1  # leaf node\n",
        "            else:\n",
        "                current_count += counts[child_idx - n_samples]\n",
        "        counts[i] = current_count\n",
        "\n",
        "    linkage_matrix = np.column_stack(\n",
        "        [model.children_, model.distances_, counts]\n",
        "    ).astype(float)\n",
        "\n",
        "    # Plot the corresponding dendrogram\n",
        "    dendrogram(linkage_matrix, **kwargs)"
      ],
      "outputs": [],
      "execution_count": null,
      "metadata": {
        "id": "36ed5651"
      },
      "id": "36ed5651"
    },
    {
      "cell_type": "code",
      "source": [
        "agg_model = AgglomerativeClustering(distance_threshold=0, n_clusters=None)\n",
        "agg_model.fit(merged_np)\n",
        "plot_dendrogram(agg_model, truncate_mode=\"level\", p=4, leaf_rotation= 45)"
      ],
      "outputs": [
        {
          "output_type": "display_data",
          "data": {
            "image/png": "[encoded data removed]",
            "text/plain": "<Figure size 432x288 with 1 Axes>"
          },
          "metadata": {
            "needs_background": "light"
          }
        }
      ],
      "execution_count": null,
      "metadata": {
        "scrolled": true,
        "id": "4c0c3e94",
        "outputId": "63713b40-ab73-4909-b197-a1a001f7e0c4"
      },
      "id": "4c0c3e94"
    },
    {
      "cell_type": "markdown",
      "source": [
        "## **Comparing the two methods:**"
      ],
      "metadata": {
        "id": "8309e541"
      },
      "id": "8309e541"
    },
    {
      "cell_type": "markdown",
      "source": [
        "* Although there are some changes in the cluster sizes (396 (Kmeans) to 319 (agg), 43 (Kmeans) to 18 (agg)), overall the clusters are pretty similar\n",
        "* But the smaller clusters have reduced in size with agglomerative clustering, which may suggest that the smaller clusters must be merged together.\n",
        "\n",
        "\n",
        "* Considering that using the KMeans method, I could identify close to 3 clusters with similar recencies and frequencies, (which could have been merged together), maybe I should have chosen a number greater than 3, but fewer than 6 as a value for k (either 4 or 5).\n",
        "* The difference between cluster size distribution is rather small, and so they may not produce much difference in the analysis results for both methods.\n",
        "\n",
        "\n",
        "\n",
        "---\n",
        "\n",
        "\n",
        "* I personally found it easier to analyze each cluster using the KMeans method, as I could analyze the centers of the KMeans clusters, and use the RFM values to hypothesize which clsuter may need what type of attention from the online retail. \n",
        "* It was difficult to find the cluster centers using the agglomerative method "
      ],
      "metadata": {
        "id": "xIrafz1h3JTy"
      },
      "id": "xIrafz1h3JTy"
    }
  ],
  "metadata": {
    "kernelspec": {
      "display_name": "Python 3",
      "language": "python",
      "name": "python3"
    },
    "language_info": {
      "codemirror_mode": {
        "name": "ipython",
        "version": 3
      },
      "file_extension": ".py",
      "mimetype": "text/x-python",
      "name": "python",
      "nbconvert_exporter": "python",
      "pygments_lexer": "ipython3",
      "version": "3.8.8"
    },
    "nteract": {
      "version": "nteract-front-end@1.0.0"
    },
    "colab": {
      "provenance": []
    }
  },
  "nbformat": 4,
  "nbformat_minor": 5
}